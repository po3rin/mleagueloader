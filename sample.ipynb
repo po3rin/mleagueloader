{
 "cells": [
  {
   "cell_type": "code",
   "execution_count": null,
   "metadata": {},
   "outputs": [],
   "source": [
    "import os\n",
    "import time\n",
    "import json\n",
    "from copy import copy\n",
    "\n",
    "import pandas as pd\n",
    "import gokart\n",
    "import luigi\n",
    "from dotenv import load_dotenv\n",
    "from bs4 import BeautifulSoup\n",
    "from selenium import webdriver\n",
    "from selenium.webdriver.chrome.options import Options\n",
    "from selenium.webdriver.common.by import By\n",
    "from mahjong.shanten import Shanten\n",
    "from mahjong.hand_calculating.hand import HandCalculator\n",
    "from mahjong.tile import TilesConverter\n",
    "from mahjong.hand_calculating.hand_config import HandConfig\n",
    "from mahjong.meld import Meld\n",
    "\n",
    "from mleagueloader import MLEAGUELoader, format_raw_data, tehai_shanten, TehaiGenerator"
   ]
  },
  {
   "cell_type": "code",
   "execution_count": null,
   "metadata": {},
   "outputs": [],
   "source": [
    "DEBUG = True"
   ]
  },
  {
   "cell_type": "code",
   "execution_count": null,
   "metadata": {},
   "outputs": [],
   "source": [
    "webdriver.__version__"
   ]
  },
  {
   "cell_type": "code",
   "execution_count": null,
   "metadata": {},
   "outputs": [],
   "source": [
    "pd.options.display.max_rows = 200\n",
    "pd.options.display.max_colwidth=80"
   ]
  },
  {
   "cell_type": "code",
   "execution_count": null,
   "metadata": {},
   "outputs": [],
   "source": [
    "load_dotenv()\n",
    "\n",
    "MLEAGUE_EMAIL = os.environ['MLEAGUE_EMAIL']\n",
    "MLEAGUE_PASS=os.environ['MLEAGUE_PASS']"
   ]
  },
  {
   "cell_type": "code",
   "execution_count": null,
   "metadata": {},
   "outputs": [],
   "source": [
    "class LoaderTask(gokart.TaskOnKart):\n",
    "    season = luigi.IntParameter(default=2022)\n",
    "    debug = luigi.BoolParameter(default=True)\n",
    "\n",
    "    def run(self):\n",
    "        options = Options()\n",
    "\n",
    "        # Headless\n",
    "        options.headless = False\n",
    "\n",
    "        # ブラウザ起動\n",
    "        driver = webdriver.Chrome(executable_path=\"chromedriver.exe\", options=options)\n",
    "        loader = MLEAGUELoader(driver=driver)\n",
    "\n",
    "        loader.login_fun(MLEAGUE_EMAIL, MLEAGUE_PASS)\n",
    "\n",
    "        # 2022シーズンの終了した試合を取得\n",
    "        schedule = loader.get_match_schedule(self.season)\n",
    "        schedule.sort(reverse=False)\n",
    "\n",
    "        if self.debug:\n",
    "            schedule = schedule[:2]\n",
    "\n",
    "        df = loader.load(schedule)\n",
    "        self.dump(df)"
   ]
  },
  {
   "cell_type": "code",
   "execution_count": null,
   "metadata": {},
   "outputs": [],
   "source": [
    "df = gokart.build(LoaderTask())"
   ]
  },
  {
   "cell_type": "code",
   "execution_count": null,
   "metadata": {},
   "outputs": [],
   "source": [
    "game_df, user_df = format_raw_data(df)"
   ]
  },
  {
   "cell_type": "code",
   "execution_count": null,
   "metadata": {},
   "outputs": [],
   "source": [
    "game_df.head(200)"
   ]
  },
  {
   "cell_type": "code",
   "execution_count": null,
   "metadata": {},
   "outputs": [],
   "source": [
    "game_df.dtypes"
   ]
  },
  {
   "cell_type": "code",
   "execution_count": null,
   "metadata": {},
   "outputs": [],
   "source": [
    "user_df.head(100)"
   ]
  },
  {
   "cell_type": "code",
   "execution_count": null,
   "metadata": {},
   "outputs": [],
   "source": [
    "tehaigen = TehaiGenerator()\n",
    "game_df = tehaigen.generate(game_df)\n",
    "game_df.head(300)[['player', 'cmd', 'hai', 'tehai']]"
   ]
  },
  {
   "cell_type": "code",
   "execution_count": null,
   "metadata": {},
   "outputs": [],
   "source": [
    "game_df['tehai_shanten'] = game_df['tehai'].apply(lambda x: tehai_shanten(x))\n",
    "\n",
    "game_df.head(300)"
   ]
  }
 ],
 "metadata": {
  "kernelspec": {
   "display_name": "Python 3.9.2 ('.venv': poetry)",
   "language": "python",
   "name": "python3"
  },
  "language_info": {
   "codemirror_mode": {
    "name": "ipython",
    "version": 3
   },
   "file_extension": ".py",
   "mimetype": "text/x-python",
   "name": "python",
   "nbconvert_exporter": "python",
   "pygments_lexer": "ipython3",
   "version": "3.9.2"
  },
  "vscode": {
   "interpreter": {
    "hash": "7161d7b4b7b3228aa01b346877cc616c84d01294093d917a9fccdb13c4acc25d"
   }
  }
 },
 "nbformat": 4,
 "nbformat_minor": 2
}
